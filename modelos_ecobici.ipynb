{
 "cells": [
  {
   "cell_type": "markdown",
   "metadata": {},
   "source": [
    "# Imports, funciones y globals"
   ]
  },
  {
   "cell_type": "code",
   "execution_count": 4,
   "metadata": {
    "collapsed": true,
    "init_cell": true
   },
   "outputs": [],
   "source": [
    "import json\n",
    "import pandas as pd\n",
    "import geopandas as gpd\n",
    "import glob\n",
    "import os\n",
    "import numpy as np\n",
    "\n",
    "from sklearn.model_selection import TimeSeriesSplit, cross_val_score\n",
    "from sklearn.metrics import accuracy_score, precision_score, f1_score, recall_score, confusion_matrix, mean_squared_error, r2_score\n",
    "from sklearn.preprocessing import PolynomialFeatures, StandardScaler, MinMaxScaler, QuantileTransformer, OneHotEncoder, KBinsDiscretizer, LabelEncoder\n",
    "from sklearn.pipeline import Pipeline\n",
    "from sklearn.model_selection import GridSearchCV\n",
    "from sklearn.compose import ColumnTransformer\n",
    "from sklearn.svm import LinearSVC, SVC, LinearSVR, SVR\n",
    "from sklearn.ensemble import RandomForestClassifier, RandomForestRegressor\n",
    "import xgboost as xgb\n",
    "from joblib import dump, load\n",
    "\n",
    "dir_datos = 'D:/datos/ecobici/status_estaciones'\n",
    "\n",
    "%matplotlib inline"
   ]
  },
  {
   "cell_type": "markdown",
   "metadata": {},
   "source": [
    "## Funciones"
   ]
  },
  {
   "cell_type": "code",
   "execution_count": 2,
   "metadata": {
    "collapsed": true,
    "init_cell": true
   },
   "outputs": [],
   "source": [
    "# Convierte a DF\n",
    "def json_to_df(jsonfile):\n",
    "    with open(f'{dir_datos}/{jsonfile}', 'r') as f:\n",
    "        data = json.load(f)\n",
    "        df = pd.DataFrame(data['uso']).assign(fecha=jsonfile[:-5], **data['meta'])\n",
    "        variables = ['id', 'name', 'bikes', 'slots', 'fecha', 'year', 'mes', 'dia', 'hora', 'minuto', 'nombre_dia']\n",
    "        return df.filter(variables)\n",
    "\n",
    "def evaluacion_resultados(modelo, x_test, y_test):\n",
    "    y_true = y_test\n",
    "    y_pred = modelo.predict(x_test)\n",
    "    y_pred_red = np.int0(y_pred)\n",
    "    error = np.sqrt(mean_squared_error(y_true, y_pred))\n",
    "    error_red = np.sqrt(mean_squared_error(y_true, y_pred_red))\n",
    "    r2 = r2_score(y_true, y_pred)\n",
    "    r2_red = r2_score(y_true, y_pred_red)\n",
    "    print(f'RMSE (redondeando y): {error_red:.2f}')\n",
    "    print(f'R2 (redondeando y): {r2_red:.2f}')\n",
    "    resultados = pd.DataFrame({'real': y_true, 'predicho': y_pred_red})\n",
    "    resultados['error'] = resultados['real']-resultados['predicho']\n",
    "    resultados['n_obs'] = resultados['real'].rank().astype(int)  # Variable auxiliar para ayudar a graficar mejor\n",
    "    ax = resultados.plot.hist(y=['real', 'predicho'], bins=30, alpha=0.5)\n",
    "    ax.set_title('Predicción')\n",
    "    ax.set_ylabel('Frecuencia')\n",
    "\n",
    "def validacion_resultados(modelo, X, y, n_splits=5):\n",
    "    tscv = TimeSeriesSplit(n_splits)\n",
    "    validacion = cross_val_score(modelo, X, y, cv=tscv, scoring='r2', n_jobs=4)\n",
    "    print('############Validación cruzada#######################')\n",
    "    print(f\"R2: {validacion.mean():.3f} (+/- {validacion.std():.3f})\")\n",
    "    print('scores R2:', validacion)\n",
    "    print('####################################################')\n",
    "    evaluacion_resultados(modelo, X, y)\n",
    "\n",
    "    \n",
    "def evaluacion_clasificacion(modelo, X, y, average='macro'):\n",
    "    y_pred = modelo.predict(X)\n",
    "    mat_confusion = confusion_matrix(y, y_pred)\n",
    "    print('Matriz confusión:\\n', mat_confusion)\n",
    "    print(f'Exactitud ({average}): {accuracy_score(y, y_pred): .2%}')\n",
    "    print(f'Precisión ({average}): {precision_score(y, y_pred, average=average): .2%} ({precision_score(y, y_pred, average=None)})')\n",
    "    print(f'Exhaustividad ({average}): {recall_score(y, y_pred, average=average): .2%} ({recall_score(y, y_pred, average=None)})')\n",
    "    print(f'F1 score ({average}): {f1_score(y, y_pred, average=average): .2%} ({f1_score(y, y_pred, average=None)})')"
   ]
  },
  {
   "cell_type": "markdown",
   "metadata": {
    "heading_collapsed": true
   },
   "source": [
    "## Globales"
   ]
  },
  {
   "cell_type": "code",
   "execution_count": 3,
   "metadata": {
    "collapsed": true,
    "hidden": true,
    "init_cell": true
   },
   "outputs": [],
   "source": [
    "# Mapa Colonias\n",
    "cdmx = gpd.read_file(f'../datos/coloniascdmx.geojson')\\\n",
    "    .astype({'id': int})\\\n",
    "    .rename(columns={'id': 'id_colonia'})\\\n",
    "    .pipe(gpd.GeoDataFrame)\n",
    "est_geo = gpd.read_file('../datos/estaciones_ecobici.geojson')\\\n",
    "    .rename(columns={'id': 'id_est'})\n",
    "cdmx.crs = est_geo.crs\n",
    "estaciones = gpd.sjoin(est_geo, cdmx, op='within', how='left')"
   ]
  },
  {
   "cell_type": "markdown",
   "metadata": {
    "heading_collapsed": true
   },
   "source": [
    "# Construcción de la base de datos"
   ]
  },
  {
   "cell_type": "code",
   "execution_count": 3,
   "metadata": {
    "collapsed": true,
    "hidden": true
   },
   "outputs": [],
   "source": [
    "archivos = glob.glob1(dir_datos, '*.json')"
   ]
  },
  {
   "cell_type": "code",
   "execution_count": 5,
   "metadata": {
    "hidden": true
   },
   "outputs": [
    {
     "data": {
      "text/html": [
       "<div>\n",
       "<style scoped>\n",
       "    .dataframe tbody tr th:only-of-type {\n",
       "        vertical-align: middle;\n",
       "    }\n",
       "\n",
       "    .dataframe tbody tr th {\n",
       "        vertical-align: top;\n",
       "    }\n",
       "\n",
       "    .dataframe thead th {\n",
       "        text-align: right;\n",
       "    }\n",
       "</style>\n",
       "<table border=\"1\" class=\"dataframe\">\n",
       "  <thead>\n",
       "    <tr style=\"text-align: right;\">\n",
       "      <th></th>\n",
       "      <th>bikes</th>\n",
       "      <th>dia</th>\n",
       "      <th>fecha</th>\n",
       "      <th>hora</th>\n",
       "      <th>id</th>\n",
       "      <th>mes</th>\n",
       "      <th>minuto</th>\n",
       "      <th>name</th>\n",
       "      <th>nombre_dia</th>\n",
       "      <th>slots</th>\n",
       "      <th>year</th>\n",
       "      <th>fecha_dt</th>\n",
       "      <th>nombre_mes</th>\n",
       "      <th>fracc_dia</th>\n",
       "    </tr>\n",
       "  </thead>\n",
       "  <tbody>\n",
       "    <tr>\n",
       "      <th>0</th>\n",
       "      <td>5</td>\n",
       "      <td>22</td>\n",
       "      <td>20190822_1325</td>\n",
       "      <td>13</td>\n",
       "      <td>1</td>\n",
       "      <td>8</td>\n",
       "      <td>25</td>\n",
       "      <td>1 RIO SENA-RIO BALSAS</td>\n",
       "      <td>jueves</td>\n",
       "      <td>22</td>\n",
       "      <td>2019</td>\n",
       "      <td>2019-08-22 13:25:00</td>\n",
       "      <td>Agosto</td>\n",
       "      <td>161</td>\n",
       "    </tr>\n",
       "    <tr>\n",
       "      <th>1</th>\n",
       "      <td>2</td>\n",
       "      <td>22</td>\n",
       "      <td>20190822_1325</td>\n",
       "      <td>13</td>\n",
       "      <td>2</td>\n",
       "      <td>8</td>\n",
       "      <td>25</td>\n",
       "      <td>2 RIO GUADALQUIVIR-RIO BALSAS</td>\n",
       "      <td>jueves</td>\n",
       "      <td>10</td>\n",
       "      <td>2019</td>\n",
       "      <td>2019-08-22 13:25:00</td>\n",
       "      <td>Agosto</td>\n",
       "      <td>161</td>\n",
       "    </tr>\n",
       "    <tr>\n",
       "      <th>2</th>\n",
       "      <td>8</td>\n",
       "      <td>22</td>\n",
       "      <td>20190822_1325</td>\n",
       "      <td>13</td>\n",
       "      <td>3</td>\n",
       "      <td>8</td>\n",
       "      <td>25</td>\n",
       "      <td>3 REFORMA-INSURGENTES</td>\n",
       "      <td>jueves</td>\n",
       "      <td>25</td>\n",
       "      <td>2019</td>\n",
       "      <td>2019-08-22 13:25:00</td>\n",
       "      <td>Agosto</td>\n",
       "      <td>161</td>\n",
       "    </tr>\n",
       "    <tr>\n",
       "      <th>3</th>\n",
       "      <td>5</td>\n",
       "      <td>22</td>\n",
       "      <td>20190822_1325</td>\n",
       "      <td>13</td>\n",
       "      <td>4</td>\n",
       "      <td>8</td>\n",
       "      <td>25</td>\n",
       "      <td>4 RIO NILO-RIO PANUCO</td>\n",
       "      <td>jueves</td>\n",
       "      <td>10</td>\n",
       "      <td>2019</td>\n",
       "      <td>2019-08-22 13:25:00</td>\n",
       "      <td>Agosto</td>\n",
       "      <td>161</td>\n",
       "    </tr>\n",
       "    <tr>\n",
       "      <th>4</th>\n",
       "      <td>8</td>\n",
       "      <td>22</td>\n",
       "      <td>20190822_1325</td>\n",
       "      <td>13</td>\n",
       "      <td>5</td>\n",
       "      <td>8</td>\n",
       "      <td>25</td>\n",
       "      <td>5 RIO PANUCO-RIO TIBER</td>\n",
       "      <td>jueves</td>\n",
       "      <td>4</td>\n",
       "      <td>2019</td>\n",
       "      <td>2019-08-22 13:25:00</td>\n",
       "      <td>Agosto</td>\n",
       "      <td>161</td>\n",
       "    </tr>\n",
       "  </tbody>\n",
       "</table>\n",
       "</div>"
      ],
      "text/plain": [
       "   bikes  dia          fecha  hora  id  mes  minuto  \\\n",
       "0      5   22  20190822_1325    13   1    8      25   \n",
       "1      2   22  20190822_1325    13   2    8      25   \n",
       "2      8   22  20190822_1325    13   3    8      25   \n",
       "3      5   22  20190822_1325    13   4    8      25   \n",
       "4      8   22  20190822_1325    13   5    8      25   \n",
       "\n",
       "                            name nombre_dia  slots  year            fecha_dt  \\\n",
       "0          1 RIO SENA-RIO BALSAS     jueves     22  2019 2019-08-22 13:25:00   \n",
       "1  2 RIO GUADALQUIVIR-RIO BALSAS     jueves     10  2019 2019-08-22 13:25:00   \n",
       "2          3 REFORMA-INSURGENTES     jueves     25  2019 2019-08-22 13:25:00   \n",
       "3          4 RIO NILO-RIO PANUCO     jueves     10  2019 2019-08-22 13:25:00   \n",
       "4         5 RIO PANUCO-RIO TIBER     jueves      4  2019 2019-08-22 13:25:00   \n",
       "\n",
       "  nombre_mes  fracc_dia  \n",
       "0     Agosto        161  \n",
       "1     Agosto        161  \n",
       "2     Agosto        161  \n",
       "3     Agosto        161  \n",
       "4     Agosto        161  "
      ]
     },
     "execution_count": 5,
     "metadata": {},
     "output_type": "execute_result"
    }
   ],
   "source": [
    "df = pd.concat([json_to_df(f) for f in archivos], sort=True)\\\n",
    "    .astype({'bikes': int, 'slots': int, 'id': int})\n",
    "df['fecha_dt'] = pd.to_datetime(df['fecha'], format='%Y%m%d_%H%M')\n",
    "df['nombre_mes'] = df.fecha_dt.dt.month_name(locale='Spanish')\n",
    "df['fracc_dia'] = df['minuto'].div(5).add(df['hora'].mul(12)).astype(int) # fraccion de 5 minutos en el dia\n",
    "df.to_csv(dir_datos+'uso_estaciones_20191016.csv', index=False)\n",
    "df.head()"
   ]
  },
  {
   "cell_type": "code",
   "execution_count": 103,
   "metadata": {
    "hidden": true
   },
   "outputs": [
    {
     "data": {
      "text/html": [
       "<div>\n",
       "<style scoped>\n",
       "    .dataframe tbody tr th:only-of-type {\n",
       "        vertical-align: middle;\n",
       "    }\n",
       "\n",
       "    .dataframe tbody tr th {\n",
       "        vertical-align: top;\n",
       "    }\n",
       "\n",
       "    .dataframe thead th {\n",
       "        text-align: right;\n",
       "    }\n",
       "</style>\n",
       "<table border=\"1\" class=\"dataframe\">\n",
       "  <thead>\n",
       "    <tr style=\"text-align: right;\">\n",
       "      <th></th>\n",
       "      <th>bikes</th>\n",
       "      <th>dia</th>\n",
       "      <th>fecha</th>\n",
       "      <th>hora</th>\n",
       "      <th>id</th>\n",
       "      <th>mes</th>\n",
       "      <th>minuto</th>\n",
       "      <th>name</th>\n",
       "      <th>nombre_dia</th>\n",
       "      <th>slots</th>\n",
       "      <th>year</th>\n",
       "      <th>fecha_dt</th>\n",
       "      <th>nombre_mes</th>\n",
       "      <th>fracc_dia</th>\n",
       "    </tr>\n",
       "  </thead>\n",
       "  <tbody>\n",
       "    <tr>\n",
       "      <th>0</th>\n",
       "      <td>5</td>\n",
       "      <td>22</td>\n",
       "      <td>20190822_1325</td>\n",
       "      <td>13</td>\n",
       "      <td>1</td>\n",
       "      <td>8</td>\n",
       "      <td>25</td>\n",
       "      <td>1 RIO SENA-RIO BALSAS</td>\n",
       "      <td>jueves</td>\n",
       "      <td>22</td>\n",
       "      <td>2019</td>\n",
       "      <td>2019-08-22 13:25:00</td>\n",
       "      <td>Agosto</td>\n",
       "      <td>161</td>\n",
       "    </tr>\n",
       "    <tr>\n",
       "      <th>1</th>\n",
       "      <td>2</td>\n",
       "      <td>22</td>\n",
       "      <td>20190822_1325</td>\n",
       "      <td>13</td>\n",
       "      <td>2</td>\n",
       "      <td>8</td>\n",
       "      <td>25</td>\n",
       "      <td>2 RIO GUADALQUIVIR-RIO BALSAS</td>\n",
       "      <td>jueves</td>\n",
       "      <td>10</td>\n",
       "      <td>2019</td>\n",
       "      <td>2019-08-22 13:25:00</td>\n",
       "      <td>Agosto</td>\n",
       "      <td>161</td>\n",
       "    </tr>\n",
       "    <tr>\n",
       "      <th>2</th>\n",
       "      <td>8</td>\n",
       "      <td>22</td>\n",
       "      <td>20190822_1325</td>\n",
       "      <td>13</td>\n",
       "      <td>3</td>\n",
       "      <td>8</td>\n",
       "      <td>25</td>\n",
       "      <td>3 REFORMA-INSURGENTES</td>\n",
       "      <td>jueves</td>\n",
       "      <td>25</td>\n",
       "      <td>2019</td>\n",
       "      <td>2019-08-22 13:25:00</td>\n",
       "      <td>Agosto</td>\n",
       "      <td>161</td>\n",
       "    </tr>\n",
       "    <tr>\n",
       "      <th>3</th>\n",
       "      <td>5</td>\n",
       "      <td>22</td>\n",
       "      <td>20190822_1325</td>\n",
       "      <td>13</td>\n",
       "      <td>4</td>\n",
       "      <td>8</td>\n",
       "      <td>25</td>\n",
       "      <td>4 RIO NILO-RIO PANUCO</td>\n",
       "      <td>jueves</td>\n",
       "      <td>10</td>\n",
       "      <td>2019</td>\n",
       "      <td>2019-08-22 13:25:00</td>\n",
       "      <td>Agosto</td>\n",
       "      <td>161</td>\n",
       "    </tr>\n",
       "    <tr>\n",
       "      <th>4</th>\n",
       "      <td>8</td>\n",
       "      <td>22</td>\n",
       "      <td>20190822_1325</td>\n",
       "      <td>13</td>\n",
       "      <td>5</td>\n",
       "      <td>8</td>\n",
       "      <td>25</td>\n",
       "      <td>5 RIO PANUCO-RIO TIBER</td>\n",
       "      <td>jueves</td>\n",
       "      <td>4</td>\n",
       "      <td>2019</td>\n",
       "      <td>2019-08-22 13:25:00</td>\n",
       "      <td>Agosto</td>\n",
       "      <td>161</td>\n",
       "    </tr>\n",
       "  </tbody>\n",
       "</table>\n",
       "</div>"
      ],
      "text/plain": [
       "   bikes  dia          fecha  hora  id  mes  minuto  \\\n",
       "0      5   22  20190822_1325    13   1    8      25   \n",
       "1      2   22  20190822_1325    13   2    8      25   \n",
       "2      8   22  20190822_1325    13   3    8      25   \n",
       "3      5   22  20190822_1325    13   4    8      25   \n",
       "4      8   22  20190822_1325    13   5    8      25   \n",
       "\n",
       "                            name nombre_dia  slots  year            fecha_dt  \\\n",
       "0          1 RIO SENA-RIO BALSAS     jueves     22  2019 2019-08-22 13:25:00   \n",
       "1  2 RIO GUADALQUIVIR-RIO BALSAS     jueves     10  2019 2019-08-22 13:25:00   \n",
       "2          3 REFORMA-INSURGENTES     jueves     25  2019 2019-08-22 13:25:00   \n",
       "3          4 RIO NILO-RIO PANUCO     jueves     10  2019 2019-08-22 13:25:00   \n",
       "4         5 RIO PANUCO-RIO TIBER     jueves      4  2019 2019-08-22 13:25:00   \n",
       "\n",
       "  nombre_mes  fracc_dia  \n",
       "0     Agosto        161  \n",
       "1     Agosto        161  \n",
       "2     Agosto        161  \n",
       "3     Agosto        161  \n",
       "4     Agosto        161  "
      ]
     },
     "execution_count": 103,
     "metadata": {},
     "output_type": "execute_result"
    }
   ],
   "source": [
    "df.head()"
   ]
  },
  {
   "cell_type": "markdown",
   "metadata": {
    "collapsed": true,
    "heading_collapsed": true
   },
   "source": [
    "# Cargando datos"
   ]
  },
  {
   "cell_type": "code",
   "execution_count": 201,
   "metadata": {
    "collapsed": true,
    "hidden": true
   },
   "outputs": [],
   "source": [
    "df = pd.read_csv(dir_datos+'uso_estaciones_20191016.csv')\\\n",
    "    .drop('Unnamed: 0', axis=1)\\\n",
    "    .query('5<=hora<=23')\\\n",
    "    .merge(estaciones[['id_est', 'geometry']], left_on='id', right_on='id_est')\\\n",
    "    .pipe(gpd.GeoDataFrame, geometry='geometry')\n",
    "\n",
    "# estatus = 1: sin bicicletas, 2: estación llena, 3: en otro caso\n",
    "df['estatus'] = 3\n",
    "df.loc[lambda x: x['bikes']==0, 'estatus'] = 1\n",
    "df.loc[lambda x: x['slots']==0, 'estatus'] = 2\n",
    "\n",
    "df['fecha_dt'] = pd.to_datetime(df['fecha'], format='%Y%m%d_%H%M')\n"
   ]
  },
  {
   "cell_type": "markdown",
   "metadata": {
    "heading_collapsed": true
   },
   "source": [
    "# Mapa disponibilidad Carto"
   ]
  },
  {
   "cell_type": "code",
   "execution_count": 88,
   "metadata": {
    "collapsed": true,
    "hidden": true
   },
   "outputs": [],
   "source": [
    "mapa_disp = df.loc[lambda x: (x['mes']==10) & (x['dia']==15) & (x['hora']>=5),\n",
    "                   ['bikes', 'fecha_dt', 'id_est', 'estatus', 'geometry']]\n",
    "\n",
    "ruta_filename = '../concurso/cartodb/disponibilidad.geojson'\n",
    "if os.path.exists(ruta_filename):\n",
    "    os.remove(ruta_filename)\n",
    "mapa_disp.to_file(ruta_filename, driver='GeoJSON')"
   ]
  },
  {
   "cell_type": "markdown",
   "metadata": {
    "heading_collapsed": true
   },
   "source": [
    "# Modelo predicción bicicletas"
   ]
  },
  {
   "cell_type": "markdown",
   "metadata": {
    "heading_collapsed": true,
    "hidden": true
   },
   "source": [
    "## Datos"
   ]
  },
  {
   "cell_type": "code",
   "execution_count": 219,
   "metadata": {
    "hidden": true
   },
   "outputs": [
    {
     "data": {
      "text/html": [
       "<div>\n",
       "<style scoped>\n",
       "    .dataframe tbody tr th:only-of-type {\n",
       "        vertical-align: middle;\n",
       "    }\n",
       "\n",
       "    .dataframe tbody tr th {\n",
       "        vertical-align: top;\n",
       "    }\n",
       "\n",
       "    .dataframe thead th {\n",
       "        text-align: right;\n",
       "    }\n",
       "</style>\n",
       "<table border=\"1\" class=\"dataframe\">\n",
       "  <thead>\n",
       "    <tr style=\"text-align: right;\">\n",
       "      <th></th>\n",
       "      <th>fecha_dt</th>\n",
       "      <th>dia</th>\n",
       "      <th>fecha</th>\n",
       "      <th>hora</th>\n",
       "      <th>id</th>\n",
       "      <th>mes</th>\n",
       "      <th>minuto</th>\n",
       "      <th>name</th>\n",
       "      <th>nombre_dia</th>\n",
       "      <th>slots</th>\n",
       "      <th>...</th>\n",
       "      <th>rezago_5_est1</th>\n",
       "      <th>rezago_5_est2</th>\n",
       "      <th>rezago_5_est3</th>\n",
       "      <th>rezago_5_est4</th>\n",
       "      <th>rezago_5_est5</th>\n",
       "      <th>rezago_6_est1</th>\n",
       "      <th>rezago_6_est2</th>\n",
       "      <th>rezago_6_est3</th>\n",
       "      <th>rezago_6_est4</th>\n",
       "      <th>rezago_6_est5</th>\n",
       "    </tr>\n",
       "  </thead>\n",
       "  <tbody>\n",
       "    <tr>\n",
       "      <th>0</th>\n",
       "      <td>2019-08-22 13:55:00</td>\n",
       "      <td>22</td>\n",
       "      <td>20190822_1355</td>\n",
       "      <td>13</td>\n",
       "      <td>1</td>\n",
       "      <td>8</td>\n",
       "      <td>55</td>\n",
       "      <td>1 RIO SENA-RIO BALSAS</td>\n",
       "      <td>jueves</td>\n",
       "      <td>22</td>\n",
       "      <td>...</td>\n",
       "      <td>6.0</td>\n",
       "      <td>3.0</td>\n",
       "      <td>7.0</td>\n",
       "      <td>5.0</td>\n",
       "      <td>8.0</td>\n",
       "      <td>5.0</td>\n",
       "      <td>2.0</td>\n",
       "      <td>8.0</td>\n",
       "      <td>5.0</td>\n",
       "      <td>8.0</td>\n",
       "    </tr>\n",
       "    <tr>\n",
       "      <th>1</th>\n",
       "      <td>2019-08-22 13:55:00</td>\n",
       "      <td>22</td>\n",
       "      <td>20190822_1355</td>\n",
       "      <td>13</td>\n",
       "      <td>2</td>\n",
       "      <td>8</td>\n",
       "      <td>55</td>\n",
       "      <td>2 RIO GUADALQUIVIR-RIO BALSAS</td>\n",
       "      <td>jueves</td>\n",
       "      <td>12</td>\n",
       "      <td>...</td>\n",
       "      <td>6.0</td>\n",
       "      <td>3.0</td>\n",
       "      <td>7.0</td>\n",
       "      <td>5.0</td>\n",
       "      <td>8.0</td>\n",
       "      <td>5.0</td>\n",
       "      <td>2.0</td>\n",
       "      <td>8.0</td>\n",
       "      <td>5.0</td>\n",
       "      <td>8.0</td>\n",
       "    </tr>\n",
       "    <tr>\n",
       "      <th>2</th>\n",
       "      <td>2019-08-22 13:55:00</td>\n",
       "      <td>22</td>\n",
       "      <td>20190822_1355</td>\n",
       "      <td>13</td>\n",
       "      <td>3</td>\n",
       "      <td>8</td>\n",
       "      <td>55</td>\n",
       "      <td>3 REFORMA-INSURGENTES</td>\n",
       "      <td>jueves</td>\n",
       "      <td>27</td>\n",
       "      <td>...</td>\n",
       "      <td>6.0</td>\n",
       "      <td>3.0</td>\n",
       "      <td>7.0</td>\n",
       "      <td>5.0</td>\n",
       "      <td>8.0</td>\n",
       "      <td>5.0</td>\n",
       "      <td>2.0</td>\n",
       "      <td>8.0</td>\n",
       "      <td>5.0</td>\n",
       "      <td>8.0</td>\n",
       "    </tr>\n",
       "    <tr>\n",
       "      <th>3</th>\n",
       "      <td>2019-08-22 13:55:00</td>\n",
       "      <td>22</td>\n",
       "      <td>20190822_1355</td>\n",
       "      <td>13</td>\n",
       "      <td>4</td>\n",
       "      <td>8</td>\n",
       "      <td>55</td>\n",
       "      <td>4 RIO NILO-RIO PANUCO</td>\n",
       "      <td>jueves</td>\n",
       "      <td>9</td>\n",
       "      <td>...</td>\n",
       "      <td>6.0</td>\n",
       "      <td>3.0</td>\n",
       "      <td>7.0</td>\n",
       "      <td>5.0</td>\n",
       "      <td>8.0</td>\n",
       "      <td>5.0</td>\n",
       "      <td>2.0</td>\n",
       "      <td>8.0</td>\n",
       "      <td>5.0</td>\n",
       "      <td>8.0</td>\n",
       "    </tr>\n",
       "    <tr>\n",
       "      <th>4</th>\n",
       "      <td>2019-08-22 13:55:00</td>\n",
       "      <td>22</td>\n",
       "      <td>20190822_1355</td>\n",
       "      <td>13</td>\n",
       "      <td>5</td>\n",
       "      <td>8</td>\n",
       "      <td>55</td>\n",
       "      <td>5 RIO PANUCO-RIO TIBER</td>\n",
       "      <td>jueves</td>\n",
       "      <td>3</td>\n",
       "      <td>...</td>\n",
       "      <td>6.0</td>\n",
       "      <td>3.0</td>\n",
       "      <td>7.0</td>\n",
       "      <td>5.0</td>\n",
       "      <td>8.0</td>\n",
       "      <td>5.0</td>\n",
       "      <td>2.0</td>\n",
       "      <td>8.0</td>\n",
       "      <td>5.0</td>\n",
       "      <td>8.0</td>\n",
       "    </tr>\n",
       "  </tbody>\n",
       "</table>\n",
       "<p>5 rows × 43 columns</p>\n",
       "</div>"
      ],
      "text/plain": [
       "              fecha_dt  dia          fecha  hora  id  mes  minuto  \\\n",
       "0  2019-08-22 13:55:00   22  20190822_1355    13   1    8      55   \n",
       "1  2019-08-22 13:55:00   22  20190822_1355    13   2    8      55   \n",
       "2  2019-08-22 13:55:00   22  20190822_1355    13   3    8      55   \n",
       "3  2019-08-22 13:55:00   22  20190822_1355    13   4    8      55   \n",
       "4  2019-08-22 13:55:00   22  20190822_1355    13   5    8      55   \n",
       "\n",
       "                            name nombre_dia  slots  ...  rezago_5_est1  \\\n",
       "0          1 RIO SENA-RIO BALSAS     jueves     22  ...            6.0   \n",
       "1  2 RIO GUADALQUIVIR-RIO BALSAS     jueves     12  ...            6.0   \n",
       "2          3 REFORMA-INSURGENTES     jueves     27  ...            6.0   \n",
       "3          4 RIO NILO-RIO PANUCO     jueves      9  ...            6.0   \n",
       "4         5 RIO PANUCO-RIO TIBER     jueves      3  ...            6.0   \n",
       "\n",
       "  rezago_5_est2  rezago_5_est3  rezago_5_est4  rezago_5_est5  rezago_6_est1  \\\n",
       "0           3.0            7.0            5.0            8.0            5.0   \n",
       "1           3.0            7.0            5.0            8.0            5.0   \n",
       "2           3.0            7.0            5.0            8.0            5.0   \n",
       "3           3.0            7.0            5.0            8.0            5.0   \n",
       "4           3.0            7.0            5.0            8.0            5.0   \n",
       "\n",
       "   rezago_6_est2  rezago_6_est3  rezago_6_est4  rezago_6_est5  \n",
       "0            2.0            8.0            5.0            8.0  \n",
       "1            2.0            8.0            5.0            8.0  \n",
       "2            2.0            8.0            5.0            8.0  \n",
       "3            2.0            8.0            5.0            8.0  \n",
       "4            2.0            8.0            5.0            8.0  \n",
       "\n",
       "[5 rows x 43 columns]"
      ]
     },
     "execution_count": 219,
     "metadata": {},
     "output_type": "execute_result"
    }
   ],
   "source": [
    "p = 6\n",
    "estaciones = [1, 2, 3, 4, 5]\n",
    "df = pd.read_csv(dir_datos+'uso_estaciones_20191016.csv')\\\n",
    "    .drop('Unnamed: 0', axis=1)\\\n",
    "    .query('5<=hora<=23')\\\n",
    "    .query('id==@estaciones')\n",
    "\n",
    "XY = df.pipe(lambda x: x.set_index('fecha_dt').join(\n",
    "                [x.groupby(['fecha_dt', 'id'])[['bikes']].sum().unstack()['bikes']\\\n",
    "                     .shift(i).add_prefix(f'rezago_{i}_est') for i in range(1, p+1)]).dropna()\\\n",
    "                .reset_index())\\\n",
    "        .query('hora>=6')\n",
    "\n",
    "\n",
    "#estatus = X.pop('estatus')\n",
    "fecha_corte1 = \"2019-09-29\"\n",
    "fecha_corte2 = \"2019-10-06\"\n",
    "X_train = XY.query('fecha_dt<=@fecha_corte1')\n",
    "X_dev = XY.query('@fecha_corte1<fecha_dt<=@fecha_corte2')\n",
    "X_test = XY.query('fecha_dt>@fecha_corte2')\n",
    "\n",
    "y_train = X_train.pop('bikes')\n",
    "y_dev = X_dev.pop('bikes')\n",
    "y_test = X_test.pop('bikes')\n",
    "\n",
    "X_train.head()"
   ]
  },
  {
   "cell_type": "markdown",
   "metadata": {
    "heading_collapsed": true,
    "hidden": true
   },
   "source": [
    "## Preprocesamiento"
   ]
  },
  {
   "cell_type": "code",
   "execution_count": 268,
   "metadata": {
    "collapsed": true,
    "hidden": true
   },
   "outputs": [],
   "source": [
    "numeric_features = rezagos.filter(like='rezago_').columns.tolist()\n",
    "categorical_features = ['nombre_dia', 'id', 'fracc_dia']\n",
    "\n",
    "# Estandariza variables numéricas\n",
    "numeric_transformer = Pipeline([('scaler', StandardScaler(with_mean=False, with_std=False))])\n",
    "\n",
    "# Crea una variable dummy por cada categoría para cada variable categórica\n",
    "categorical_transformer = Pipeline([('onehot', OneHotEncoder(categories='auto', handle_unknown='ignore'))])\n",
    "\n",
    "preprocesa = ColumnTransformer([\n",
    "        ('num', numeric_transformer, numeric_features),\n",
    "        ('cat', categorical_transformer, categorical_features)],\n",
    "        remainder='drop')\n",
    "\n",
    "modelo_rf = Pipeline([('preprocesa', preprocesa),\n",
    "                      ('reg', RandomForestRegressor(n_estimators=20, min_samples_split=10))])\n",
    "\n",
    "modelo_xgb = Pipeline([('preprocesa', preprocesa),\n",
    "                      ('reg', xgb.XGBRegressor(objective=\"count:poisson\", max_depth=10, random_state=42, ))])\n"
   ]
  },
  {
   "cell_type": "markdown",
   "metadata": {
    "hidden": true
   },
   "source": [
    "## Entrenamiento"
   ]
  },
  {
   "cell_type": "markdown",
   "metadata": {
    "heading_collapsed": true,
    "hidden": true
   },
   "source": [
    "### Random Forest"
   ]
  },
  {
   "cell_type": "code",
   "execution_count": 269,
   "metadata": {
    "hidden": true
   },
   "outputs": [
    {
     "data": {
      "text/plain": [
       "Pipeline(memory=None,\n",
       "         steps=[('preprocesa',\n",
       "                 ColumnTransformer(n_jobs=None, remainder='drop',\n",
       "                                   sparse_threshold=0.3,\n",
       "                                   transformer_weights=None,\n",
       "                                   transformers=[('num',\n",
       "                                                  Pipeline(memory=None,\n",
       "                                                           steps=[('scaler',\n",
       "                                                                   StandardScaler(copy=True,\n",
       "                                                                                  with_mean=False,\n",
       "                                                                                  with_std=False))],\n",
       "                                                           verbose=False),\n",
       "                                                  ['rezago_1_est1',\n",
       "                                                   'rezago_1_est2',\n",
       "                                                   'rezago_1_est3',\n",
       "                                                   'rezago_1_est4',\n",
       "                                                   'rezago_1_est5',\n",
       "                                                   '...\n",
       "                                   verbose=False)),\n",
       "                ('reg',\n",
       "                 RandomForestRegressor(bootstrap=True, criterion='mse',\n",
       "                                       max_depth=None, max_features='auto',\n",
       "                                       max_leaf_nodes=None,\n",
       "                                       min_impurity_decrease=0.0,\n",
       "                                       min_impurity_split=None,\n",
       "                                       min_samples_leaf=1, min_samples_split=10,\n",
       "                                       min_weight_fraction_leaf=0.0,\n",
       "                                       n_estimators=20, n_jobs=None,\n",
       "                                       oob_score=False, random_state=None,\n",
       "                                       verbose=0, warm_start=False))],\n",
       "         verbose=False)"
      ]
     },
     "execution_count": 269,
     "metadata": {},
     "output_type": "execute_result"
    }
   ],
   "source": [
    "modelo_rf.fit(X_train, y_train)"
   ]
  },
  {
   "cell_type": "code",
   "execution_count": 270,
   "metadata": {
    "hidden": true
   },
   "outputs": [
    {
     "name": "stdout",
     "output_type": "stream",
     "text": [
      "############Validación cruzada#######################\n",
      "R2: 0.815 (+/- 0.143)\n",
      "scores R2: [0.53280317 0.87048609 0.85837216 0.89465364 0.92103969]\n",
      "####################################################\n",
      "RMSE (redondeando y): 1.42\n",
      "R2 (redondeando y): 0.92\n"
     ]
    },
    {
     "data": {
      "image/png": "[encoded data removed]",
      "text/plain": [
       "<Figure size 432x288 with 1 Axes>"
      ]
     },
     "metadata": {},
     "output_type": "display_data"
    }
   ],
   "source": [
    "validacion_resultados(modelo_rf, X_dev, y_dev)"
   ]
  },
  {
   "cell_type": "markdown",
   "metadata": {
    "heading_collapsed": true,
    "hidden": true
   },
   "source": [
    "### XGB"
   ]
  },
  {
   "cell_type": "code",
   "execution_count": 262,
   "metadata": {
    "hidden": true
   },
   "outputs": [
    {
     "data": {
      "text/plain": [
       "Pipeline(memory=None,\n",
       "         steps=[('preprocesa',\n",
       "                 ColumnTransformer(n_jobs=None, remainder='drop',\n",
       "                                   sparse_threshold=0.3,\n",
       "                                   transformer_weights=None,\n",
       "                                   transformers=[('num',\n",
       "                                                  Pipeline(memory=None,\n",
       "                                                           steps=[('scaler',\n",
       "                                                                   StandardScaler(copy=True,\n",
       "                                                                                  with_mean=False,\n",
       "                                                                                  with_std=False))],\n",
       "                                                           verbose=False),\n",
       "                                                  ['rezago_1_est1',\n",
       "                                                   'rezago_1_est2',\n",
       "                                                   'rezago_1_est3',\n",
       "                                                   'rezago_1_est4',\n",
       "                                                   'rezago_1_est5',\n",
       "                                                   '...\n",
       "                ('reg',\n",
       "                 XGBRegressor(base_score=0.5, booster='gbtree',\n",
       "                              colsample_bylevel=1, colsample_bytree=1, gamma=0,\n",
       "                              learning_rate=0.1, max_delta_step=0, max_depth=10,\n",
       "                              min_child_weight=1, missing=None,\n",
       "                              n_estimators=100, n_jobs=1, nthread=None,\n",
       "                              objective='count:poisson', random_state=42,\n",
       "                              reg_alpha=0, reg_lambda=1, scale_pos_weight=1,\n",
       "                              seed=None, silent=True, subsample=1))],\n",
       "         verbose=False)"
      ]
     },
     "execution_count": 262,
     "metadata": {},
     "output_type": "execute_result"
    }
   ],
   "source": [
    "modelo_xgb.fit(X_train, y_train)"
   ]
  },
  {
   "cell_type": "code",
   "execution_count": 263,
   "metadata": {
    "hidden": true
   },
   "outputs": [
    {
     "name": "stdout",
     "output_type": "stream",
     "text": [
      "############Validación cruzada#######################\n",
      "R2: 0.578 (+/- 0.310)\n",
      "scores R2: [-0.03833695  0.77125953  0.77124792  0.67325309  0.71269917]\n",
      "####################################################\n",
      "RMSE (redondeando y): 1.58\n",
      "R2 (redondeando y): 0.90\n"
     ]
    },
    {
     "data": {
      "image/png": "[encoded data removed]",
      "text/plain": [
       "<Figure size 432x288 with 1 Axes>"
      ]
     },
     "metadata": {},
     "output_type": "display_data"
    }
   ],
   "source": [
    "validacion_resultados(modelo_xgb, X_dev, y_dev)"
   ]
  },
  {
   "cell_type": "markdown",
   "metadata": {
    "heading_collapsed": true,
    "hidden": true
   },
   "source": [
    "## GridSearch"
   ]
  },
  {
   "cell_type": "code",
   "execution_count": 250,
   "metadata": {
    "collapsed": true,
    "hidden": true
   },
   "outputs": [],
   "source": [
    "tscv = TimeSeriesSplit(n_splits=3)\n",
    "params = {\n",
    "    'reg__n_estimators':(50, 70, 100),\n",
    "    'reg__min_samples_split':(5, 10),\n",
    "}\n",
    "finder = GridSearchCV(\n",
    "    estimator=modelo_rf,\n",
    "    param_grid=params,\n",
    "    scoring='r2',\n",
    "    n_jobs=4,\n",
    "    iid=False,\n",
    "    cv=tscv,  # change this to the splitter subject to test\n",
    "    verbose=1,\n",
    "    error_score=-999,\n",
    "    return_train_score=True\n",
    ")"
   ]
  },
  {
   "cell_type": "code",
   "execution_count": 251,
   "metadata": {
    "hidden": true
   },
   "outputs": [
    {
     "name": "stdout",
     "output_type": "stream",
     "text": [
      "Fitting 3 folds for each of 6 candidates, totalling 18 fits\n"
     ]
    },
    {
     "name": "stderr",
     "output_type": "stream",
     "text": [
      "[Parallel(n_jobs=4)]: Using backend LokyBackend with 4 concurrent workers.\n",
      "[Parallel(n_jobs=4)]: Done  18 out of  18 | elapsed: 24.1min finished\n"
     ]
    },
    {
     "data": {
      "text/plain": [
       "GridSearchCV(cv=TimeSeriesSplit(max_train_size=None, n_splits=3),\n",
       "             error_score=-999,\n",
       "             estimator=Pipeline(memory=None,\n",
       "                                steps=[('preprocesa',\n",
       "                                        ColumnTransformer(n_jobs=None,\n",
       "                                                          remainder='drop',\n",
       "                                                          sparse_threshold=0.3,\n",
       "                                                          transformer_weights=None,\n",
       "                                                          transformers=[('num',\n",
       "                                                                         Pipeline(memory=None,\n",
       "                                                                                  steps=[('scaler',\n",
       "                                                                                          StandardScaler(copy=True,\n",
       "                                                                                                         with_mean=False,\n",
       "                                                                                                         with_std=False))],\n",
       "                                                                                  verbos...\n",
       "                                                              min_samples_leaf=1,\n",
       "                                                              min_samples_split=10,\n",
       "                                                              min_weight_fraction_leaf=0.0,\n",
       "                                                              n_estimators=50,\n",
       "                                                              n_jobs=None,\n",
       "                                                              oob_score=False,\n",
       "                                                              random_state=None,\n",
       "                                                              verbose=0,\n",
       "                                                              warm_start=False))],\n",
       "                                verbose=False),\n",
       "             iid=False, n_jobs=4,\n",
       "             param_grid={'reg__min_samples_split': (5, 10),\n",
       "                         'reg__n_estimators': (50, 70, 100)},\n",
       "             pre_dispatch='2*n_jobs', refit=True, return_train_score=True,\n",
       "             scoring='r2', verbose=1)"
      ]
     },
     "execution_count": 251,
     "metadata": {},
     "output_type": "execute_result"
    }
   ],
   "source": [
    "finder.fit(X_train, y_train)"
   ]
  },
  {
   "cell_type": "code",
   "execution_count": 253,
   "metadata": {
    "hidden": true
   },
   "outputs": [
    {
     "data": {
      "text/plain": [
       "{'reg__min_samples_split': 10, 'reg__n_estimators': 100}"
      ]
     },
     "execution_count": 253,
     "metadata": {},
     "output_type": "execute_result"
    }
   ],
   "source": [
    "finder.best_params_"
   ]
  },
  {
   "cell_type": "code",
   "execution_count": 272,
   "metadata": {
    "hidden": true
   },
   "outputs": [
    {
     "name": "stdout",
     "output_type": "stream",
     "text": [
      "############Validación cruzada#######################\n",
      "R2: 0.812 (+/- 0.165)\n",
      "scores R2: [0.483367   0.88278294 0.87593631 0.89609355 0.92251651]\n",
      "####################################################\n",
      "RMSE (redondeando y): 1.41\n",
      "R2 (redondeando y): 0.92\n"
     ]
    },
    {
     "data": {
      "image/png": "[encoded data removed]",
      "text/plain": [
       "<Figure size 432x288 with 1 Axes>"
      ]
     },
     "metadata": {},
     "output_type": "display_data"
    }
   ],
   "source": [
    "mejor_rf = finder.best_estimator_\n",
    "validacion_resultados(mejor_rf, X_dev, y_dev)"
   ]
  },
  {
   "cell_type": "markdown",
   "metadata": {
    "heading_collapsed": true,
    "hidden": true
   },
   "source": [
    "## Guardando modelo "
   ]
  },
  {
   "cell_type": "code",
   "execution_count": 274,
   "metadata": {
    "hidden": true
   },
   "outputs": [
    {
     "data": {
      "text/plain": [
       "['../modelos/modelo_predictor_bikes.joblib']"
      ]
     },
     "execution_count": 274,
     "metadata": {},
     "output_type": "execute_result"
    }
   ],
   "source": [
    "dump(modelo_rf, '../modelos/modelo_predictor_bikes.joblib') "
   ]
  },
  {
   "cell_type": "markdown",
   "metadata": {},
   "source": [
    "# Modelo de predicción de estatus de la estación"
   ]
  },
  {
   "cell_type": "markdown",
   "metadata": {},
   "source": [
    "## Datos"
   ]
  },
  {
   "cell_type": "code",
   "execution_count": 5,
   "metadata": {},
   "outputs": [
    {
     "data": {
      "text/html": [
       "<div>\n",
       "<style scoped>\n",
       "    .dataframe tbody tr th:only-of-type {\n",
       "        vertical-align: middle;\n",
       "    }\n",
       "\n",
       "    .dataframe tbody tr th {\n",
       "        vertical-align: top;\n",
       "    }\n",
       "\n",
       "    .dataframe thead th {\n",
       "        text-align: right;\n",
       "    }\n",
       "</style>\n",
       "<table border=\"1\" class=\"dataframe\">\n",
       "  <thead>\n",
       "    <tr style=\"text-align: right;\">\n",
       "      <th></th>\n",
       "      <th>nombre_dia</th>\n",
       "      <th>id</th>\n",
       "      <th>fracc_dia</th>\n",
       "      <th>fecha_dt</th>\n",
       "    </tr>\n",
       "  </thead>\n",
       "  <tbody>\n",
       "    <tr>\n",
       "      <th>0</th>\n",
       "      <td>jueves</td>\n",
       "      <td>1</td>\n",
       "      <td>161</td>\n",
       "      <td>2019-08-22 13:25:00</td>\n",
       "    </tr>\n",
       "    <tr>\n",
       "      <th>1</th>\n",
       "      <td>jueves</td>\n",
       "      <td>2</td>\n",
       "      <td>161</td>\n",
       "      <td>2019-08-22 13:25:00</td>\n",
       "    </tr>\n",
       "    <tr>\n",
       "      <th>2</th>\n",
       "      <td>jueves</td>\n",
       "      <td>3</td>\n",
       "      <td>161</td>\n",
       "      <td>2019-08-22 13:25:00</td>\n",
       "    </tr>\n",
       "    <tr>\n",
       "      <th>3</th>\n",
       "      <td>jueves</td>\n",
       "      <td>4</td>\n",
       "      <td>161</td>\n",
       "      <td>2019-08-22 13:25:00</td>\n",
       "    </tr>\n",
       "    <tr>\n",
       "      <th>4</th>\n",
       "      <td>jueves</td>\n",
       "      <td>5</td>\n",
       "      <td>161</td>\n",
       "      <td>2019-08-22 13:25:00</td>\n",
       "    </tr>\n",
       "  </tbody>\n",
       "</table>\n",
       "</div>"
      ],
      "text/plain": [
       "  nombre_dia  id  fracc_dia             fecha_dt\n",
       "0     jueves   1        161  2019-08-22 13:25:00\n",
       "1     jueves   2        161  2019-08-22 13:25:00\n",
       "2     jueves   3        161  2019-08-22 13:25:00\n",
       "3     jueves   4        161  2019-08-22 13:25:00\n",
       "4     jueves   5        161  2019-08-22 13:25:00"
      ]
     },
     "execution_count": 5,
     "metadata": {},
     "output_type": "execute_result"
    }
   ],
   "source": [
    "estaciones = [1, 2, 3, 4, 5]\n",
    "df = pd.read_csv(dir_datos+'uso_estaciones_20191016.csv')\\\n",
    "    .drop('Unnamed: 0', axis=1)\\\n",
    "    .query('5<=hora<=23')\\\n",
    "    #.query('id==@estaciones')\n",
    "\n",
    "# estatus = 1: sin bicicletas, 2: Entre 1 y 5, 3: más de 5\n",
    "df['estatus'] = 3\n",
    "df.loc[lambda x: x['bikes']==0, 'estatus'] = 1\n",
    "df.loc[lambda x: (1<=x['bikes']) & (x['bikes']<=5), 'estatus'] = 2\n",
    "\n",
    "x_vars = ['nombre_dia', 'id', 'fracc_dia', 'fecha_dt'] \n",
    "y_var = ['estatus']\n",
    "XY = df[x_vars+y_var].copy()\n",
    "#estatus = X.pop('estatus')\n",
    "fecha_corte1 = \"2019-09-29\"\n",
    "fecha_corte2 = \"2019-10-06\"\n",
    "X_train = XY.query('fecha_dt<=@fecha_corte1')\n",
    "X_dev = XY.query('@fecha_corte1<fecha_dt<=@fecha_corte2')\n",
    "X_test = XY.query('fecha_dt>@fecha_corte2')\n",
    "\n",
    "y_train = X_train.pop('estatus')\n",
    "y_dev = X_dev.pop('estatus')\n",
    "y_test = X_test.pop('estatus')\n",
    "\n",
    "X_train.head()"
   ]
  },
  {
   "cell_type": "markdown",
   "metadata": {},
   "source": [
    "## Preprocesamiento"
   ]
  },
  {
   "cell_type": "code",
   "execution_count": 6,
   "metadata": {
    "collapsed": true
   },
   "outputs": [],
   "source": [
    "categorical_features = ['nombre_dia', 'id', 'fracc_dia']\n",
    "\n",
    "# Crea una variable dummy por cada categoría para cada variable categórica\n",
    "categorical_transformer = Pipeline([\n",
    "    ('onehot', OneHotEncoder(categories='auto', handle_unknown='ignore')),\n",
    "                                   ])\n",
    "\n",
    "preprocesa = ColumnTransformer([\n",
    "        ('cat', categorical_transformer, categorical_features)],\n",
    "        remainder='drop')"
   ]
  },
  {
   "cell_type": "markdown",
   "metadata": {},
   "source": [
    "## Estimación"
   ]
  },
  {
   "cell_type": "markdown",
   "metadata": {},
   "source": [
    "### RandomForest"
   ]
  },
  {
   "cell_type": "code",
   "execution_count": 23,
   "metadata": {},
   "outputs": [
    {
     "data": {
      "text/plain": [
       "Pipeline(memory=None,\n",
       "         steps=[('preprocesa',\n",
       "                 ColumnTransformer(n_jobs=None, remainder='drop',\n",
       "                                   sparse_threshold=0.3,\n",
       "                                   transformer_weights=None,\n",
       "                                   transformers=[('cat',\n",
       "                                                  Pipeline(memory=None,\n",
       "                                                           steps=[('onehot',\n",
       "                                                                   OneHotEncoder(categorical_features=None,\n",
       "                                                                                 categories='auto',\n",
       "                                                                                 drop=None,\n",
       "                                                                                 dtype=<class 'numpy.float64'>,\n",
       "                                                                                 handle_unknown='ignore',\n",
       "                                                                                 n_values=None,\n",
       "                                                                                 sparse=True))],\n",
       "                                                           verbos...\n",
       "                ('clf',\n",
       "                 RandomForestClassifier(bootstrap=True, class_weight=None,\n",
       "                                        criterion='gini', max_depth=100,\n",
       "                                        max_features='auto',\n",
       "                                        max_leaf_nodes=None,\n",
       "                                        min_impurity_decrease=0.0,\n",
       "                                        min_impurity_split=None,\n",
       "                                        min_samples_leaf=1, min_samples_split=2,\n",
       "                                        min_weight_fraction_leaf=0.0,\n",
       "                                        n_estimators=5, n_jobs=2,\n",
       "                                        oob_score=False, random_state=None,\n",
       "                                        verbose=0, warm_start=False))],\n",
       "         verbose=False)"
      ]
     },
     "execution_count": 23,
     "metadata": {},
     "output_type": "execute_result"
    }
   ],
   "source": [
    "clf_rf = Pipeline([('preprocesa', preprocesa),\n",
    "                      ('clf', RandomForestClassifier(n_estimators=5, max_depth=100, n_jobs=2))])\n",
    "\n",
    "clf_rf.fit(X_train, y_train)"
   ]
  },
  {
   "cell_type": "code",
   "execution_count": 24,
   "metadata": {},
   "outputs": [
    {
     "name": "stdout",
     "output_type": "stream",
     "text": [
      "Matriz confusión:\n",
      " [[  6532   4738  52175]\n",
      " [   697  21059 192466]\n",
      " [   590  15727 467776]]\n",
      "Exactitud (macro):  65.03%\n",
      "Precisión (macro):  66.64% ([0.83540095 0.50715249 0.65660421])\n",
      "Exhaustividad (macro):  38.92% ([0.10295532 0.09830456 0.96629367])\n",
      "F1 score (macro):  37.66% ([0.18331837 0.16468684 0.78190069])\n"
     ]
    }
   ],
   "source": [
    "evaluacion_clasificacion(clf_rf, X_dev, y_dev)"
   ]
  },
  {
   "cell_type": "markdown",
   "metadata": {
    "heading_collapsed": true
   },
   "source": [
    "### XGB"
   ]
  },
  {
   "cell_type": "code",
   "execution_count": 47,
   "metadata": {
    "hidden": true
   },
   "outputs": [
    {
     "data": {
      "text/plain": [
       "Pipeline(memory=None,\n",
       "         steps=[('preprocesa',\n",
       "                 ColumnTransformer(n_jobs=None, remainder='drop',\n",
       "                                   sparse_threshold=0.3,\n",
       "                                   transformer_weights=None,\n",
       "                                   transformers=[('cat',\n",
       "                                                  Pipeline(memory=None,\n",
       "                                                           steps=[('onehot',\n",
       "                                                                   OneHotEncoder(categorical_features=None,\n",
       "                                                                                 categories='auto',\n",
       "                                                                                 drop=None,\n",
       "                                                                                 dtype=<class 'numpy.float64'>,\n",
       "                                                                                 handle_unknown='ignore',\n",
       "                                                                                 n_values=None,\n",
       "                                                                                 sparse=True))],\n",
       "                                                           verbos...\n",
       "                 XGBClassifier(base_score=0.5, booster='gbtree',\n",
       "                               colsample_bylevel=1, colsample_bynode=1,\n",
       "                               colsample_bytree=1, gamma=0, learning_rate=0.1,\n",
       "                               max_delta_step=0, max_depth=100,\n",
       "                               min_child_weight=1, missing=None,\n",
       "                               n_estimators=100, n_jobs=-1, nthread=None,\n",
       "                               num_class=3, objective='multi:softprob',\n",
       "                               random_state=42, reg_alpha=0, reg_lambda=1,\n",
       "                               scale_pos_weight=1, seed=None, silent=None,\n",
       "                               subsample=1, verbosity=1))],\n",
       "         verbose=False)"
      ]
     },
     "execution_count": 47,
     "metadata": {},
     "output_type": "execute_result"
    }
   ],
   "source": [
    "clf_xgb = Pipeline([('preprocesa', preprocesa),\n",
    "                      ('clf', xgb.XGBClassifier(objective=\"multi:softmax\", max_depth=100, num_class=3,\n",
    "                                                random_state=42, n_jobs=-1))])\n",
    "clf_xgb.fit(X_train, y_train)"
   ]
  },
  {
   "cell_type": "code",
   "execution_count": 45,
   "metadata": {
    "collapsed": true,
    "hidden": true
   },
   "outputs": [],
   "source": [
    "evaluacion_clasificacion(clf_xgb, X_dev, y_dev)"
   ]
  },
  {
   "cell_type": "markdown",
   "metadata": {},
   "source": [
    "## Guardando modelo"
   ]
  },
  {
   "cell_type": "code",
   "execution_count": 25,
   "metadata": {},
   "outputs": [
    {
     "data": {
      "text/plain": [
       "['D:/datos/ecobici/modelos/modelo_predictor_estatus.joblib']"
      ]
     },
     "execution_count": 25,
     "metadata": {},
     "output_type": "execute_result"
    }
   ],
   "source": [
    "dump(clf_rf, 'D:/datos/ecobici/modelos/modelo_predictor_estatus.joblib') "
   ]
  },
  {
   "cell_type": "markdown",
   "metadata": {
    "collapsed": true
   },
   "source": [
    "## consultando el modelo"
   ]
  },
  {
   "cell_type": "code",
   "execution_count": 17,
   "metadata": {},
   "outputs": [
    {
     "data": {
      "text/plain": [
       "2563.2296810150146"
      ]
     },
     "execution_count": 17,
     "metadata": {},
     "output_type": "execute_result"
    }
   ],
   "source": [
    "df.memory_usage(deep=True).sum()/2**20"
   ]
  },
  {
   "cell_type": "code",
   "execution_count": 5,
   "metadata": {
    "collapsed": true
   },
   "outputs": [],
   "source": [
    "clases = {1: 'No hay bicicletas disponibles', 2: 'Menos de 5 bicicletas', 3: 'Más de 5 bicicletas'}\n",
    "clf_rf = load('d:/datos/ecobici/modelos/modelo_predictor_estatus.joblib')"
   ]
  },
  {
   "cell_type": "code",
   "execution_count": 25,
   "metadata": {
    "collapsed": true
   },
   "outputs": [],
   "source": [
    "opciones_dia = ['lunes', 'martes', 'miercoles', 'jueves', 'viernes', 'sábado', 'domingo']\n",
    "id_estaciones = list(range(1, 481))\n",
    "\n",
    "hora = 8\n",
    "minuto = 30\n",
    "punto = dict()\n",
    "punto['nombre_dia'] = opciones_dia[1]\n",
    "punto['fracc_dia'] = hora*12 + int(minuto/5)\n",
    "punto['id'] = id_estaciones\n",
    "punto['fecha_dt'] = 0\n",
    "\n",
    "query = pd.DataFrame(punto)[x_vars]\n",
    "query['estatus'] = clf_rf.predict(query)\n",
    "query['texto'] = query['estatus'].map(clases)\n",
    "output = dict()\n",
    "output['estatus'] = query[['id', 'estatus', 'texto']].to_dict(orient='records')\n",
    "output['dia'] = dia\n",
    "output['hora'] = hora\n",
    "output['minuto'] = minuto"
   ]
  },
  {
   "cell_type": "code",
   "execution_count": 30,
   "metadata": {
    "collapsed": true
   },
   "outputs": [],
   "source": [
    "df_graficas = df.loc[df['fecha_dt']>=\"2019-10-07\", ['bikes', 'id', 'nombre_dia', 'hora', 'fecha_dt']]"
   ]
  },
  {
   "cell_type": "code",
   "execution_count": 24,
   "metadata": {},
   "outputs": [
    {
     "data": {
      "text/plain": [
       "177.1875"
      ]
     },
     "execution_count": 24,
     "metadata": {},
     "output_type": "execute_result"
    }
   ],
   "source": [
    "df_graficas.memory_usage(deep=True).sum()/2**20"
   ]
  },
  {
   "cell_type": "code",
   "execution_count": 34,
   "metadata": {},
   "outputs": [
    {
     "data": {
      "text/plain": [
       "Text(0.5, 1.0, 'Bicicletas disponibles en la estación 5 a las 19')"
      ]
     },
     "execution_count": 34,
     "metadata": {},
     "output_type": "execute_result"
    },
    {
     "data": {
      "image/png": "[encoded data removed]",
      "text/plain": [
       "<Figure size 432x288 with 1 Axes>"
      ]
     },
     "metadata": {},
     "output_type": "display_data"
    }
   ],
   "source": [
    "historial = df_graficas.query(f'id=={punto[\"id\"]} & hora=={hora}')\\\n",
    "        .set_index('fecha_dt')\n",
    "ax = historial.plot(y='bikes', label='Bicicletas', rot=90)\n",
    "#historial['bikes'].rolling(4).mean().plot(ax=ax, label='media movil 4 días', rot=90)\n",
    "ax.axhline(y=5, color='red', ls='--')\n",
    "ax.legend(bbox_to_anchor=(1, 0.5))\n",
    "ax.set_ylabel('Número de bicicletas disponibles')\n",
    "ax.set_xlabel('')\n",
    "ax.set_title(f'Bicicletas disponibles en la estación {punto[\"id\"]} a las {hora}')"
   ]
  },
  {
   "cell_type": "code",
   "execution_count": null,
   "metadata": {
    "collapsed": true
   },
   "outputs": [],
   "source": []
  },
  {
   "cell_type": "code",
   "execution_count": null,
   "metadata": {
    "collapsed": true
   },
   "outputs": [],
   "source": []
  },
  {
   "cell_type": "code",
   "execution_count": null,
   "metadata": {
    "collapsed": true
   },
   "outputs": [],
   "source": []
  }
 ],
 "metadata": {
  "hide_input": false,
  "kernelspec": {
   "display_name": "Python 3",
   "language": "python",
   "name": "python3"
  },
  "language_info": {
   "codemirror_mode": {
    "name": "ipython",
    "version": 3
   },
   "file_extension": ".py",
   "mimetype": "text/x-python",
   "name": "python",
   "nbconvert_exporter": "python",
   "pygments_lexer": "ipython3",
   "version": "3.7.3"
  },
  "toc": {
   "base_numbering": 1,
   "nav_menu": {},
   "number_sections": true,
   "sideBar": true,
   "skip_h1_title": false,
   "title_cell": "Table of Contents",
   "title_sidebar": "Contents",
   "toc_cell": false,
   "toc_position": {
    "height": "calc(100% - 180px)",
    "left": "10px",
    "top": "150px",
    "width": "349px"
   },
   "toc_section_display": true,
   "toc_window_display": true
  },
  "varInspector": {
   "cols": {
    "lenName": 16,
    "lenType": 16,
    "lenVar": 40
   },
   "kernels_config": {
    "python": {
     "delete_cmd_postfix": "",
     "delete_cmd_prefix": "del ",
     "library": "var_list.py",
     "varRefreshCmd": "print(var_dic_list())"
    },
    "r": {
     "delete_cmd_postfix": ") ",
     "delete_cmd_prefix": "rm(",
     "library": "var_list.r",
     "varRefreshCmd": "cat(var_dic_list()) "
    }
   },
   "types_to_exclude": [
    "module",
    "function",
    "builtin_function_or_method",
    "instance",
    "_Feature"
   ],
   "window_display": false
  }
 },
 "nbformat": 4,
 "nbformat_minor": 2
}
